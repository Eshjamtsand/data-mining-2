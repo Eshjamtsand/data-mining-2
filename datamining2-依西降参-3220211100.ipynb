{
 "cells": [
  {
   "cell_type": "markdown",
   "metadata": {},
   "source": [
    "数据挖掘互评作业2：频繁模式与关联规则挖掘_依西降参_3220211100"
   ]
  },
  {
   "cell_type": "markdown",
   "metadata": {},
   "source": [
    "## Wine Reviews (winemag-data-130k-v2.csv) 数据集的频繁模式与关联规则挖掘"
   ]
  },
  {
   "cell_type": "markdown",
   "metadata": {},
   "source": [
    "GitHub地址：https://github.com/Eshjamtsand/data-mining-2"
   ]
  },
  {
   "cell_type": "markdown",
   "metadata": {},
   "source": [
    "### 1. 数据集基本信息\n",
    "对数据集的属性个数、样本个数、缺失值个数做个简单分析。"
   ]
  },
  {
   "cell_type": "code",
   "execution_count": 24,
   "metadata": {},
   "outputs": [
    {
     "name": "stdout",
     "output_type": "stream",
     "text": [
      "数据的列数为： 13\n",
      "数据的行数为： 129971\n",
      "数据的前3列为如下：\n"
     ]
    },
    {
     "data": {
      "text/html": [
       "<div>\n",
       "<style>\n",
       "    .dataframe thead tr:only-child th {\n",
       "        text-align: right;\n",
       "    }\n",
       "\n",
       "    .dataframe thead th {\n",
       "        text-align: left;\n",
       "    }\n",
       "\n",
       "    .dataframe tbody tr th {\n",
       "        vertical-align: top;\n",
       "    }\n",
       "</style>\n",
       "<table border=\"1\" class=\"dataframe\">\n",
       "  <thead>\n",
       "    <tr style=\"text-align: right;\">\n",
       "      <th></th>\n",
       "      <th>country</th>\n",
       "      <th>description</th>\n",
       "      <th>designation</th>\n",
       "      <th>points</th>\n",
       "      <th>price</th>\n",
       "      <th>province</th>\n",
       "      <th>region_1</th>\n",
       "      <th>region_2</th>\n",
       "      <th>taster_name</th>\n",
       "      <th>taster_twitter_handle</th>\n",
       "      <th>title</th>\n",
       "      <th>variety</th>\n",
       "      <th>winery</th>\n",
       "    </tr>\n",
       "  </thead>\n",
       "  <tbody>\n",
       "    <tr>\n",
       "      <th>0</th>\n",
       "      <td>Italy</td>\n",
       "      <td>Aromas include tropical fruit, broom, brimston...</td>\n",
       "      <td>Vulkà Bianco</td>\n",
       "      <td>87</td>\n",
       "      <td>NaN</td>\n",
       "      <td>Sicily &amp; Sardinia</td>\n",
       "      <td>Etna</td>\n",
       "      <td>NaN</td>\n",
       "      <td>Kerin O’Keefe</td>\n",
       "      <td>@kerinokeefe</td>\n",
       "      <td>Nicosia 2013 Vulkà Bianco  (Etna)</td>\n",
       "      <td>White Blend</td>\n",
       "      <td>Nicosia</td>\n",
       "    </tr>\n",
       "    <tr>\n",
       "      <th>1</th>\n",
       "      <td>Portugal</td>\n",
       "      <td>This is ripe and fruity, a wine that is smooth...</td>\n",
       "      <td>Avidagos</td>\n",
       "      <td>87</td>\n",
       "      <td>15.0</td>\n",
       "      <td>Douro</td>\n",
       "      <td>NaN</td>\n",
       "      <td>NaN</td>\n",
       "      <td>Roger Voss</td>\n",
       "      <td>@vossroger</td>\n",
       "      <td>Quinta dos Avidagos 2011 Avidagos Red (Douro)</td>\n",
       "      <td>Portuguese Red</td>\n",
       "      <td>Quinta dos Avidagos</td>\n",
       "    </tr>\n",
       "    <tr>\n",
       "      <th>2</th>\n",
       "      <td>US</td>\n",
       "      <td>Tart and snappy, the flavors of lime flesh and...</td>\n",
       "      <td>NaN</td>\n",
       "      <td>87</td>\n",
       "      <td>14.0</td>\n",
       "      <td>Oregon</td>\n",
       "      <td>Willamette Valley</td>\n",
       "      <td>Willamette Valley</td>\n",
       "      <td>Paul Gregutt</td>\n",
       "      <td>@paulgwine</td>\n",
       "      <td>Rainstorm 2013 Pinot Gris (Willamette Valley)</td>\n",
       "      <td>Pinot Gris</td>\n",
       "      <td>Rainstorm</td>\n",
       "    </tr>\n",
       "  </tbody>\n",
       "</table>\n",
       "</div>"
      ],
      "text/plain": [
       "    country                                        description   designation  \\\n",
       "0     Italy  Aromas include tropical fruit, broom, brimston...  Vulkà Bianco   \n",
       "1  Portugal  This is ripe and fruity, a wine that is smooth...      Avidagos   \n",
       "2        US  Tart and snappy, the flavors of lime flesh and...           NaN   \n",
       "\n",
       "   points  price           province           region_1           region_2  \\\n",
       "0      87    NaN  Sicily & Sardinia               Etna                NaN   \n",
       "1      87   15.0              Douro                NaN                NaN   \n",
       "2      87   14.0             Oregon  Willamette Valley  Willamette Valley   \n",
       "\n",
       "     taster_name taster_twitter_handle  \\\n",
       "0  Kerin O’Keefe          @kerinokeefe   \n",
       "1     Roger Voss            @vossroger   \n",
       "2   Paul Gregutt           @paulgwine    \n",
       "\n",
       "                                           title         variety  \\\n",
       "0              Nicosia 2013 Vulkà Bianco  (Etna)     White Blend   \n",
       "1  Quinta dos Avidagos 2011 Avidagos Red (Douro)  Portuguese Red   \n",
       "2  Rainstorm 2013 Pinot Gris (Willamette Valley)      Pinot Gris   \n",
       "\n",
       "                winery  \n",
       "0              Nicosia  \n",
       "1  Quinta dos Avidagos  \n",
       "2            Rainstorm  "
      ]
     },
     "execution_count": 24,
     "metadata": {},
     "output_type": "execute_result"
    }
   ],
   "source": [
    "%matplotlib inline\n",
    "%config InlineBackend.figure_format = 'retina'\n",
    "import scipy.stats as stats\n",
    "import pandas as pd\n",
    "import matplotlib.pyplot as plt\n",
    "import pylab\n",
    "from collections import defaultdict\n",
    "import itertools\n",
    "wine_file='C:\\\\Users\\\\admin\\\\Downloads\\\\archive\\\\winemag-data-130k-v2.csv'\n",
    "winedata=pd.read_csv(wine_file,index_col=0)\n",
    "print('数据的列数为：',winedata.shape[1])\n",
    "print('数据的行数为：',winedata.shape[0])\n",
    "print('数据的前3列为如下：')\n",
    "winedata.head(3)"
   ]
  },
  {
   "cell_type": "code",
   "execution_count": 4,
   "metadata": {},
   "outputs": [
    {
     "name": "stdout",
     "output_type": "stream",
     "text": [
      "数据集的属性分布如下：\n",
      "<class 'pandas.core.frame.DataFrame'>\n",
      "Int64Index: 129971 entries, 0 to 129970\n",
      "Data columns (total 13 columns):\n",
      "country                  129908 non-null object\n",
      "description              129971 non-null object\n",
      "designation              92506 non-null object\n",
      "points                   129971 non-null int64\n",
      "price                    120975 non-null float64\n",
      "province                 129908 non-null object\n",
      "region_1                 108724 non-null object\n",
      "region_2                 50511 non-null object\n",
      "taster_name              103727 non-null object\n",
      "taster_twitter_handle    98758 non-null object\n",
      "title                    129971 non-null object\n",
      "variety                  129970 non-null object\n",
      "winery                   129971 non-null object\n",
      "dtypes: float64(1), int64(1), object(11)\n",
      "memory usage: 13.9+ MB\n"
     ]
    }
   ],
   "source": [
    "print('数据集的属性分布如下：')\n",
    "winedata.info()"
   ]
  },
  {
   "cell_type": "code",
   "execution_count": 6,
   "metadata": {},
   "outputs": [
    {
     "name": "stdout",
     "output_type": "stream",
     "text": [
      "数据集属性的缺失值个数统计如下：\n",
      "country                     63\n",
      "description                  0\n",
      "designation              37465\n",
      "points                       0\n",
      "price                     8996\n",
      "province                    63\n",
      "region_1                 21247\n",
      "region_2                 79460\n",
      "taster_name              26244\n",
      "taster_twitter_handle    31213\n",
      "title                        0\n",
      "variety                      1\n",
      "winery                       0\n",
      "dtype: int64\n"
     ]
    }
   ],
   "source": [
    "print('数据集属性的缺失值个数统计如下：')\n",
    "nullnum=winedata.isnull().sum()\n",
    "print(nullnum)"
   ]
  },
  {
   "cell_type": "markdown",
   "metadata": {},
   "source": [
    "### 2.属性缺失值用属性的众数进行填充"
   ]
  },
  {
   "cell_type": "code",
   "execution_count": 19,
   "metadata": {},
   "outputs": [
    {
     "name": "stdout",
     "output_type": "stream",
     "text": [
      "用每个属性的众数填充之后数据集缺失值统计如下：\n"
     ]
    },
    {
     "data": {
      "text/plain": [
       "country                  0\n",
       "description              0\n",
       "designation              0\n",
       "points                   0\n",
       "price                    0\n",
       "province                 0\n",
       "region_1                 0\n",
       "region_2                 0\n",
       "taster_name              0\n",
       "taster_twitter_handle    0\n",
       "title                    0\n",
       "variety                  0\n",
       "winery                   0\n",
       "dtype: int64"
      ]
     },
     "execution_count": 19,
     "metadata": {},
     "output_type": "execute_result"
    }
   ],
   "source": [
    "fulldata=winedata.copy()  \n",
    "for column in list(winedata.columns):\n",
    "    fulldata[column]=fulldata[column].fillna(winedata[column].mode()[0])\n",
    "print('用每个属性的众数填充之后数据集缺失值统计如下：')\n",
    "fulldata.isnull().sum()"
   ]
  },
  {
   "cell_type": "markdown",
   "metadata": {},
   "source": [
    "抽取两个属性检查是否成功用众数填充缺失值："
   ]
  },
  {
   "cell_type": "code",
   "execution_count": 18,
   "metadata": {},
   "outputs": [
    {
     "name": "stdout",
     "output_type": "stream",
     "text": [
      "country属性的众数是： US\n",
      "原数据集country属性缺失值的对应编号为（前三个）：\n"
     ]
    },
    {
     "data": {
      "text/plain": [
       "913     NaN\n",
       "3131    NaN\n",
       "4243    NaN\n",
       "Name: country, dtype: object"
      ]
     },
     "execution_count": 18,
     "metadata": {},
     "output_type": "execute_result"
    }
   ],
   "source": [
    "#1.country属性\n",
    "print('country属性的众数是：',winedata['country'].mode()[0])\n",
    "print('原数据集country属性缺失值的对应编号为（前三个）：')\n",
    "winedata[winedata['country'].isnull()]['country'].head(3)"
   ]
  },
  {
   "cell_type": "code",
   "execution_count": 17,
   "metadata": {},
   "outputs": [
    {
     "name": "stdout",
     "output_type": "stream",
     "text": [
      "country属性缺失值的对应编号用众数填充后（前三个）：\n"
     ]
    },
    {
     "data": {
      "text/plain": [
       "913     US\n",
       "3131    US\n",
       "4243    US\n",
       "Name: country, dtype: object"
      ]
     },
     "execution_count": 17,
     "metadata": {},
     "output_type": "execute_result"
    }
   ],
   "source": [
    "print('country属性缺失值的对应编号用众数填充后（前三个）：')\n",
    "fulldata[winedata['country'].isnull()]['country'].head(3)"
   ]
  },
  {
   "cell_type": "code",
   "execution_count": 62,
   "metadata": {},
   "outputs": [
    {
     "name": "stdout",
     "output_type": "stream",
     "text": [
      "variety属性的众数是： Pinot Noir\n",
      "原数据集variety属性缺失值的对应编号为：\n"
     ]
    },
    {
     "data": {
      "text/plain": [
       "86909    NaN\n",
       "Name: variety, dtype: object"
      ]
     },
     "execution_count": 62,
     "metadata": {},
     "output_type": "execute_result"
    }
   ],
   "source": [
    "#2.variety属性\n",
    "print('variety属性的众数是：',winedata['variety'].mode()[0])\n",
    "print('原数据集variety属性缺失值的对应编号为：')\n",
    "winedata[winedata['variety'].isnull()]['variety'].head(3)"
   ]
  },
  {
   "cell_type": "code",
   "execution_count": 63,
   "metadata": {},
   "outputs": [
    {
     "name": "stdout",
     "output_type": "stream",
     "text": [
      "variety属性缺失值的对应编号用众数填充后：\n"
     ]
    },
    {
     "data": {
      "text/plain": [
       "86909    Pinot Noir\n",
       "Name: variety, dtype: object"
      ]
     },
     "execution_count": 63,
     "metadata": {},
     "output_type": "execute_result"
    }
   ],
   "source": [
    "print('variety属性缺失值的对应编号用众数填充后：')\n",
    "fulldata[winedata['variety'].isnull()]['variety'].head(3)"
   ]
  },
  {
   "cell_type": "markdown",
   "metadata": {},
   "source": [
    "由上结果可知，数据集成功用属性的众数填充缺失值。"
   ]
  },
  {
   "cell_type": "markdown",
   "metadata": {},
   "source": [
    "### 3.找出频繁模式：本次实验以挖掘产地和品种之间的关系为例。\n",
    "使用Apriori算法，导出频繁项集（support>0.05, confidence>0.1, lift>1）。"
   ]
  },
  {
   "cell_type": "code",
   "execution_count": 64,
   "metadata": {},
   "outputs": [
    {
     "name": "stdout",
     "output_type": "stream",
     "text": [
      "数据集中只保留产地和品种相关的属性后，数据如下：\n"
     ]
    },
    {
     "data": {
      "text/plain": [
       "[('Italy', 'White Blend', 'Nicosia'),\n",
       " ('Portugal', 'Portuguese Red', 'Quinta dos Avidagos'),\n",
       " ('US', 'Pinot Gris', 'Rainstorm'),\n",
       " ('US', 'Riesling', 'St. Julian'),\n",
       " ('US', 'Pinot Noir', 'Sweet Cheeks'),\n",
       " ('Spain', 'Tempranillo-Merlot', 'Tandem'),\n",
       " ('Italy', 'Frappato', 'Terre di Giurfo'),\n",
       " ('France', 'Gewürztraminer', 'Trimbach'),\n",
       " ('Germany', 'Gewürztraminer', 'Heinz Eifel'),\n",
       " ('France', 'Pinot Gris', 'Jean-Baptiste Adam'),\n",
       " ('US', 'Cabernet Sauvignon', 'Kirkland Signature'),\n",
       " ('France', 'Gewürztraminer', 'Leon Beyer'),\n",
       " ('US', 'Cabernet Sauvignon', 'Louis M. Martini'),\n",
       " ('Italy', 'Nerello Mascalese', 'Masseria Setteporte'),\n",
       " ('US', 'Chardonnay', 'Mirassou'),\n",
       " ('Germany', 'Riesling', 'Richard Böcking'),\n",
       " ('Argentina', 'Malbec', 'Felix Lavaque'),\n",
       " ('Argentina', 'Malbec', 'Gaucho Andino'),\n",
       " ('Spain', 'Tempranillo Blend', 'Pradorey'),\n",
       " ('US', 'Meritage', 'Quiévremont')]"
      ]
     },
     "execution_count": 64,
     "metadata": {},
     "output_type": "execute_result"
    }
   ],
   "source": [
    "transactions = []\n",
    "for index, row in fulldata.iterrows():\n",
    "    transactions += [(row['country'], row['variety'], row['winery'])]\n",
    "\n",
    "print('数据集中只保留产地和品种相关的属性后，数据如下：')    \n",
    "transactions[:20]"
   ]
  },
  {
   "cell_type": "code",
   "execution_count": 66,
   "metadata": {},
   "outputs": [
    {
     "name": "stdout",
     "output_type": "stream",
     "text": [
      "使用Apriori找出的频繁项集及其Support（支持度）、Confidence（置信度）、Lift（提升度）如下：\n",
      "(frozenset({'US'}), frozenset({'Cabernet Sauvignon'}), 0.05629717398496588, 0.13409203364670955, 1.839957316838734)\n",
      "(frozenset({'Cabernet Sauvignon'}), frozenset({'US'}), 0.05629717398496588, 0.772487331081081, 1.8399573168387335)\n",
      "(frozenset({'US'}), frozenset({'Pinot Noir'}), 0.0760785098214217, 0.18120842267304416, 1.7744172307118378)\n",
      "(frozenset({'Pinot Noir'}), frozenset({'US'}), 0.0760785098214217, 0.7449709937467038, 1.7744172307118375)\n",
      "(frozenset({'US'}), frozenset({'Chardonnay'}), 0.052350139646536537, 0.12469074715487383, 1.3788973962789166)\n",
      "(frozenset({'Chardonnay'}), frozenset({'US'}), 0.052350139646536537, 0.5789160214413341, 1.3788973962789164)\n"
     ]
    }
   ],
   "source": [
    "def apriori(transactions, support=0.1, confidence=0.8, lift=1, minlen=2, maxlen=2):\n",
    "    item_2_tranidxs = defaultdict(list)\n",
    "    itemset_2_tranidxs = defaultdict(list)\n",
    "\n",
    "    for tranidx, tran in enumerate(transactions):\n",
    "        for item in tran:\n",
    "            item_2_tranidxs[item].append(tranidx)\n",
    "            itemset_2_tranidxs[frozenset([item])].append(tranidx)\n",
    "\n",
    "    item_2_tranidxs = dict([(k, frozenset(v)) for k, v in item_2_tranidxs.items()])\n",
    "    itemset_2_tranidxs = dict([\n",
    "        (k, frozenset(v)) for k, v in itemset_2_tranidxs.items()])\n",
    "\n",
    "    tran_count = float(len(transactions))\n",
    "    # print('Extracting rules in {} transactions...'.format(int(tran_count)))\n",
    "\n",
    "    valid_items = set(item\n",
    "                      for item, tranidxs in item_2_tranidxs.items()\n",
    "                      if (len(tranidxs) / tran_count >= support))\n",
    "\n",
    "    pivot_itemsets = [frozenset([item]) for item in valid_items]\n",
    "    freqsets = []\n",
    "\n",
    "    if minlen == 1:\n",
    "        freqsets.extend(pivot_itemsets)\n",
    "\n",
    "    for i in range(maxlen - 1):\n",
    "        new_itemset_size = i + 2\n",
    "        new_itemsets = []\n",
    "\n",
    "        for pivot_itemset in pivot_itemsets:\n",
    "            pivot_tranidxs = itemset_2_tranidxs[pivot_itemset]\n",
    "            for item, tranidxs in item_2_tranidxs.items():\n",
    "                if item not in pivot_itemset:\n",
    "                    common_tranidxs = pivot_tranidxs & tranidxs\n",
    "                    if len(common_tranidxs) / tran_count >= support:\n",
    "                        new_itemset = frozenset(pivot_itemset | set([item]))\n",
    "                        if new_itemset not in itemset_2_tranidxs:\n",
    "                            new_itemsets.append(new_itemset)\n",
    "                            itemset_2_tranidxs[new_itemset] = common_tranidxs\n",
    "\n",
    "        if new_itemset_size > minlen - 1:\n",
    "            freqsets.extend(new_itemsets)\n",
    "\n",
    "        pivot_itemsets = new_itemsets\n",
    "\n",
    "    for freqset in freqsets:\n",
    "        for item in freqset:\n",
    "            rhs = frozenset([item])\n",
    "            lhs = freqset - rhs\n",
    "            support_rhs = len(itemset_2_tranidxs[rhs]) / tran_count\n",
    "            if len(lhs) == 0:\n",
    "                lift_rhs = float(1)\n",
    "                if support_rhs >= support and support_rhs > confidence and lift_rhs > lift:\n",
    "                    yield (lhs, rhs, support_rhs, support_rhs, lift_rhs)\n",
    "            else:\n",
    "                confidence_lhs_rhs = len(itemset_2_tranidxs[freqset]) \\\n",
    "                                     / float(len(itemset_2_tranidxs[lhs]))\n",
    "                lift_lhs_rhs = confidence_lhs_rhs / support_rhs\n",
    "\n",
    "                if confidence_lhs_rhs >= confidence and lift_lhs_rhs > lift:\n",
    "                    support_lhs_rhs = len(itemset_2_tranidxs[freqset]) / tran_count\n",
    "                    yield (lhs, rhs, support_lhs_rhs, confidence_lhs_rhs, lift_lhs_rhs)\n",
    "\n",
    "\n",
    "rules = apriori(transactions, support=0.05, confidence=0.1, lift=1)\n",
    "rules_sorted = sorted(rules, key=lambda x: (x[4], x[3], x[2]),\n",
    "                      reverse=True)  \n",
    "print('使用Apriori找出的频繁项集及其Support（支持度）、Confidence（置信度）、Lift（提升度）如下：')\n",
    "for r in rules_sorted:\n",
    "    print(r)"
   ]
  },
  {
   "cell_type": "markdown",
   "metadata": {},
   "source": [
    "### 4.导出关联规则，计算其支持度和置信度"
   ]
  },
  {
   "cell_type": "code",
   "execution_count": 67,
   "metadata": {},
   "outputs": [
    {
     "name": "stdout",
     "output_type": "stream",
     "text": [
      "关联规则及其Support（支持度）、Confidence（置信度）、Lift（提升度）如下：\n"
     ]
    },
    {
     "data": {
      "text/html": [
       "<div>\n",
       "<style>\n",
       "    .dataframe thead tr:only-child th {\n",
       "        text-align: right;\n",
       "    }\n",
       "\n",
       "    .dataframe thead th {\n",
       "        text-align: left;\n",
       "    }\n",
       "\n",
       "    .dataframe tbody tr th {\n",
       "        vertical-align: top;\n",
       "    }\n",
       "</style>\n",
       "<table border=\"1\" class=\"dataframe\">\n",
       "  <thead>\n",
       "    <tr style=\"text-align: right;\">\n",
       "      <th></th>\n",
       "      <th>Rule</th>\n",
       "      <th>Support</th>\n",
       "      <th>Confidence</th>\n",
       "      <th>Lift</th>\n",
       "    </tr>\n",
       "  </thead>\n",
       "  <tbody>\n",
       "    <tr>\n",
       "      <th>0</th>\n",
       "      <td>US =&gt; Cabernet Sauvignon</td>\n",
       "      <td>0.056297</td>\n",
       "      <td>0.134092</td>\n",
       "      <td>1.839957</td>\n",
       "    </tr>\n",
       "    <tr>\n",
       "      <th>1</th>\n",
       "      <td>Cabernet Sauvignon =&gt; US</td>\n",
       "      <td>0.056297</td>\n",
       "      <td>0.772487</td>\n",
       "      <td>1.839957</td>\n",
       "    </tr>\n",
       "    <tr>\n",
       "      <th>2</th>\n",
       "      <td>US =&gt; Pinot Noir</td>\n",
       "      <td>0.076079</td>\n",
       "      <td>0.181208</td>\n",
       "      <td>1.774417</td>\n",
       "    </tr>\n",
       "    <tr>\n",
       "      <th>3</th>\n",
       "      <td>Pinot Noir =&gt; US</td>\n",
       "      <td>0.076079</td>\n",
       "      <td>0.744971</td>\n",
       "      <td>1.774417</td>\n",
       "    </tr>\n",
       "    <tr>\n",
       "      <th>4</th>\n",
       "      <td>US =&gt; Chardonnay</td>\n",
       "      <td>0.052350</td>\n",
       "      <td>0.124691</td>\n",
       "      <td>1.378897</td>\n",
       "    </tr>\n",
       "    <tr>\n",
       "      <th>5</th>\n",
       "      <td>Chardonnay =&gt; US</td>\n",
       "      <td>0.052350</td>\n",
       "      <td>0.578916</td>\n",
       "      <td>1.378897</td>\n",
       "    </tr>\n",
       "  </tbody>\n",
       "</table>\n",
       "</div>"
      ],
      "text/plain": [
       "                       Rule   Support  Confidence      Lift\n",
       "0  US => Cabernet Sauvignon  0.056297    0.134092  1.839957\n",
       "1  Cabernet Sauvignon => US  0.056297    0.772487  1.839957\n",
       "2          US => Pinot Noir  0.076079    0.181208  1.774417\n",
       "3          Pinot Noir => US  0.076079    0.744971  1.774417\n",
       "4          US => Chardonnay  0.052350    0.124691  1.378897\n",
       "5          Chardonnay => US  0.052350    0.578916  1.378897"
      ]
     },
     "execution_count": 67,
     "metadata": {},
     "output_type": "execute_result"
    }
   ],
   "source": [
    "import csv \n",
    "with open('result.csv', 'wt') as f:\n",
    "    f_csv = csv.writer(f, delimiter=',')\n",
    "    f_csv.writerow(['Rule', 'Support', 'Confidence', 'Lift'])\n",
    "    for r in rules_sorted:\n",
    "        f_csv.writerow([f'{str(list(r[0])[0])} => {str(list(r[1])[0])}', r[2], r[3], r[4]])\n",
    "\n",
    "print('关联规则及其Support（支持度）、Confidence（置信度）、Lift（提升度）如下：')\n",
    "pd.read_csv('result.csv')"
   ]
  },
  {
   "cell_type": "markdown",
   "metadata": {},
   "source": [
    "### 5.对规则进行评价，使用Lift， Kulc指标"
   ]
  },
  {
   "cell_type": "raw",
   "metadata": {},
   "source": [
    "5.1 Lift指标\n",
    "Lift指标的结果如第4部分所示。"
   ]
  },
  {
   "cell_type": "raw",
   "metadata": {},
   "source": [
    "5.2 Kulc指标"
   ]
  },
  {
   "cell_type": "code",
   "execution_count": 60,
   "metadata": {},
   "outputs": [
    {
     "name": "stdout",
     "output_type": "stream",
     "text": [
      "US => Cabernet Sauvignon  的Kulc指标为：0.4532896823638953\n",
      "Cabernet Sauvignon => US  的Kulc指标为：0.4532896823638953\n",
      "US => Pinot Noir  的Kulc指标为：0.463089708209874\n",
      "Pinot Noir => US  的Kulc指标为：0.463089708209874\n",
      "US => Chardonnay  的Kulc指标为：0.351803384298104\n",
      "Chardonnay => US  的Kulc指标为：0.351803384298104\n"
     ]
    }
   ],
   "source": [
    "res = []\n",
    "for r in rules_sorted:\n",
    "    conf1 = r[3]\n",
    "    for r2 in rules_sorted:\n",
    "        if r2[0] == r[1] and r2[1] == r[0]:\n",
    "            conf2 = r2[3]\n",
    "    kulc = (conf1 + conf2) / 2\n",
    "    print(f'{str(list(r[0])[0])} => {str(list(r[1])[0])}'+'  的Kulc指标为：'+str(kulc))\n",
    "    res.append(kulc)"
   ]
  },
  {
   "cell_type": "markdown",
   "metadata": {},
   "source": [
    "### 6.对挖掘结果进行分析\n",
    "这里以Pinot Noir => US为例。\n",
    "Pinot Noir这个品种的葡萄酒基本上产自美国，以此来检验："
   ]
  },
  {
   "cell_type": "code",
   "execution_count": 33,
   "metadata": {},
   "outputs": [
    {
     "data": {
      "text/html": [
       "<div>\n",
       "<style>\n",
       "    .dataframe thead tr:only-child th {\n",
       "        text-align: right;\n",
       "    }\n",
       "\n",
       "    .dataframe thead th {\n",
       "        text-align: left;\n",
       "    }\n",
       "\n",
       "    .dataframe tbody tr th {\n",
       "        vertical-align: top;\n",
       "    }\n",
       "</style>\n",
       "<table border=\"1\" class=\"dataframe\">\n",
       "  <thead>\n",
       "    <tr style=\"text-align: right;\">\n",
       "      <th></th>\n",
       "      <th>country</th>\n",
       "      <th>description</th>\n",
       "      <th>designation</th>\n",
       "      <th>points</th>\n",
       "      <th>price</th>\n",
       "      <th>province</th>\n",
       "      <th>region_1</th>\n",
       "      <th>region_2</th>\n",
       "      <th>taster_name</th>\n",
       "      <th>taster_twitter_handle</th>\n",
       "      <th>title</th>\n",
       "      <th>variety</th>\n",
       "      <th>winery</th>\n",
       "    </tr>\n",
       "  </thead>\n",
       "  <tbody>\n",
       "    <tr>\n",
       "      <th>105918</th>\n",
       "      <td>France</td>\n",
       "      <td>Smells a little warm with notes of stewed red ...</td>\n",
       "      <td>Reserve</td>\n",
       "      <td>83</td>\n",
       "      <td>5.0</td>\n",
       "      <td>Languedoc-Roussillon</td>\n",
       "      <td>Vin de Pays d'Oc</td>\n",
       "      <td>Central Coast</td>\n",
       "      <td>Lauren Buzzeo</td>\n",
       "      <td>@laurbuzz</td>\n",
       "      <td>French Rabbit 2007 Pinot Noir (Vin de Pays d'Oc)</td>\n",
       "      <td>Pinot Noir</td>\n",
       "      <td>French Rabbit</td>\n",
       "    </tr>\n",
       "    <tr>\n",
       "      <th>71285</th>\n",
       "      <td>US</td>\n",
       "      <td>A selection of estate, Tualatin and Elton vine...</td>\n",
       "      <td>Signature Cuvée</td>\n",
       "      <td>90</td>\n",
       "      <td>50.0</td>\n",
       "      <td>Oregon</td>\n",
       "      <td>Willamette Valley</td>\n",
       "      <td>Willamette Valley</td>\n",
       "      <td>Paul Gregutt</td>\n",
       "      <td>@paulgwine</td>\n",
       "      <td>Willamette Valley Vineyards 2008 Signature Cuv...</td>\n",
       "      <td>Pinot Noir</td>\n",
       "      <td>Willamette Valley Vineyards</td>\n",
       "    </tr>\n",
       "    <tr>\n",
       "      <th>95280</th>\n",
       "      <td>US</td>\n",
       "      <td>Aromas of cinnamon and spice decorate the nose...</td>\n",
       "      <td>McCrone Vineyard</td>\n",
       "      <td>88</td>\n",
       "      <td>50.0</td>\n",
       "      <td>Oregon</td>\n",
       "      <td>Willamette Valley</td>\n",
       "      <td>Central Coast</td>\n",
       "      <td>Paul Gregutt</td>\n",
       "      <td>@paulgwine</td>\n",
       "      <td>Ken Wright 2010 McCrone Vineyard Pinot Noir</td>\n",
       "      <td>Pinot Noir</td>\n",
       "      <td>Ken Wright</td>\n",
       "    </tr>\n",
       "    <tr>\n",
       "      <th>59705</th>\n",
       "      <td>US</td>\n",
       "      <td>The pedigree of the vineyard shows in this bea...</td>\n",
       "      <td>Talley-Rincon Vineyard</td>\n",
       "      <td>93</td>\n",
       "      <td>40.0</td>\n",
       "      <td>California</td>\n",
       "      <td>Arroyo Grande Valley</td>\n",
       "      <td>Central Coast</td>\n",
       "      <td>Roger Voss</td>\n",
       "      <td>@vossroger</td>\n",
       "      <td>Sinor-LaVallee 2008 Talley-Rincon Vineyard Pin...</td>\n",
       "      <td>Pinot Noir</td>\n",
       "      <td>Sinor-LaVallee</td>\n",
       "    </tr>\n",
       "    <tr>\n",
       "      <th>13922</th>\n",
       "      <td>France</td>\n",
       "      <td>This wine is quite firm, but with plenty of bl...</td>\n",
       "      <td>Santenots Premier Cru</td>\n",
       "      <td>91</td>\n",
       "      <td>145.0</td>\n",
       "      <td>Burgundy</td>\n",
       "      <td>Volnay</td>\n",
       "      <td>Central Coast</td>\n",
       "      <td>Roger Voss</td>\n",
       "      <td>@vossroger</td>\n",
       "      <td>Domaine Jacques Prieur 2014 Santenots Premier ...</td>\n",
       "      <td>Pinot Noir</td>\n",
       "      <td>Domaine Jacques Prieur</td>\n",
       "    </tr>\n",
       "    <tr>\n",
       "      <th>129825</th>\n",
       "      <td>France</td>\n",
       "      <td>A fresh, juicy wine, with attractive acidity, ...</td>\n",
       "      <td>Reserve</td>\n",
       "      <td>88</td>\n",
       "      <td>30.0</td>\n",
       "      <td>Burgundy</td>\n",
       "      <td>Côte de Beaune-Villages</td>\n",
       "      <td>Central Coast</td>\n",
       "      <td>Roger Voss</td>\n",
       "      <td>@vossroger</td>\n",
       "      <td>Camille Giroud 2008  Côte de Beaune-Villages</td>\n",
       "      <td>Pinot Noir</td>\n",
       "      <td>Camille Giroud</td>\n",
       "    </tr>\n",
       "    <tr>\n",
       "      <th>92587</th>\n",
       "      <td>France</td>\n",
       "      <td>This is a smooth and polished wine, with herb ...</td>\n",
       "      <td>Gravières Premier Cru</td>\n",
       "      <td>90</td>\n",
       "      <td>47.0</td>\n",
       "      <td>Burgundy</td>\n",
       "      <td>Santenay</td>\n",
       "      <td>Central Coast</td>\n",
       "      <td>Roger Voss</td>\n",
       "      <td>@vossroger</td>\n",
       "      <td>Domaine Jessiaume 2010 Gravières Premier Cru  ...</td>\n",
       "      <td>Pinot Noir</td>\n",
       "      <td>Domaine Jessiaume</td>\n",
       "    </tr>\n",
       "    <tr>\n",
       "      <th>126281</th>\n",
       "      <td>US</td>\n",
       "      <td>Pencil shavings, purple flowers, light cranber...</td>\n",
       "      <td>Reserve</td>\n",
       "      <td>84</td>\n",
       "      <td>22.0</td>\n",
       "      <td>California</td>\n",
       "      <td>Santa Maria Valley</td>\n",
       "      <td>Central Coast</td>\n",
       "      <td>Matt Kettmann</td>\n",
       "      <td>@mattkettmann</td>\n",
       "      <td>Crespi Ranch 2012 Pinot Noir (Santa Maria Valley)</td>\n",
       "      <td>Pinot Noir</td>\n",
       "      <td>Crespi Ranch</td>\n",
       "    </tr>\n",
       "    <tr>\n",
       "      <th>65232</th>\n",
       "      <td>US</td>\n",
       "      <td>This Pinot is a little tough in the mouth, but...</td>\n",
       "      <td>Stephanie's Cuvée</td>\n",
       "      <td>87</td>\n",
       "      <td>23.0</td>\n",
       "      <td>California</td>\n",
       "      <td>Russian River Valley</td>\n",
       "      <td>Sonoma</td>\n",
       "      <td>Roger Voss</td>\n",
       "      <td>@vossroger</td>\n",
       "      <td>River Road 2012 Stephanie's Cuvée Pinot Noir (...</td>\n",
       "      <td>Pinot Noir</td>\n",
       "      <td>River Road</td>\n",
       "    </tr>\n",
       "    <tr>\n",
       "      <th>118714</th>\n",
       "      <td>France</td>\n",
       "      <td>In its early stages of evolution, this wine of...</td>\n",
       "      <td>Reserve</td>\n",
       "      <td>92</td>\n",
       "      <td>96.0</td>\n",
       "      <td>Burgundy</td>\n",
       "      <td>Corton</td>\n",
       "      <td>Central Coast</td>\n",
       "      <td>Roger Voss</td>\n",
       "      <td>@vossroger</td>\n",
       "      <td>Maison Champy 2006  Corton</td>\n",
       "      <td>Pinot Noir</td>\n",
       "      <td>Maison Champy</td>\n",
       "    </tr>\n",
       "    <tr>\n",
       "      <th>126317</th>\n",
       "      <td>US</td>\n",
       "      <td>From a vineyard poised along Eastside Road, th...</td>\n",
       "      <td>Calegari Vineyard</td>\n",
       "      <td>92</td>\n",
       "      <td>58.0</td>\n",
       "      <td>California</td>\n",
       "      <td>Russian River Valley</td>\n",
       "      <td>Sonoma</td>\n",
       "      <td>Virginie Boone</td>\n",
       "      <td>@vboone</td>\n",
       "      <td>Williams Selyem 2014 Calegari Vineyard Pinot N...</td>\n",
       "      <td>Pinot Noir</td>\n",
       "      <td>Williams Selyem</td>\n",
       "    </tr>\n",
       "    <tr>\n",
       "      <th>128173</th>\n",
       "      <td>US</td>\n",
       "      <td>Reduced initially, this wine shows a feral her...</td>\n",
       "      <td>Hawk Hill Vineyard</td>\n",
       "      <td>86</td>\n",
       "      <td>60.0</td>\n",
       "      <td>California</td>\n",
       "      <td>Sonoma Coast</td>\n",
       "      <td>Sonoma</td>\n",
       "      <td>Virginie Boone</td>\n",
       "      <td>@vboone</td>\n",
       "      <td>Argot 2013 Hawk Hill Vineyard Pinot Noir (Sono...</td>\n",
       "      <td>Pinot Noir</td>\n",
       "      <td>Argot</td>\n",
       "    </tr>\n",
       "    <tr>\n",
       "      <th>73236</th>\n",
       "      <td>US</td>\n",
       "      <td>Just one barrel was made, all 777 clone and ag...</td>\n",
       "      <td>Luxuria</td>\n",
       "      <td>92</td>\n",
       "      <td>75.0</td>\n",
       "      <td>Oregon</td>\n",
       "      <td>Willamette Valley</td>\n",
       "      <td>Willamette Valley</td>\n",
       "      <td>Paul Gregutt</td>\n",
       "      <td>@paulgwine</td>\n",
       "      <td>Antiquum Farm 2013 Luxuria Pinot Noir (Willame...</td>\n",
       "      <td>Pinot Noir</td>\n",
       "      <td>Antiquum Farm</td>\n",
       "    </tr>\n",
       "    <tr>\n",
       "      <th>73872</th>\n",
       "      <td>France</td>\n",
       "      <td>The nose is dominated by the attractive scents...</td>\n",
       "      <td>Les Charmes</td>\n",
       "      <td>87</td>\n",
       "      <td>65.0</td>\n",
       "      <td>Burgundy</td>\n",
       "      <td>Chambolle-Musigny</td>\n",
       "      <td>Central Coast</td>\n",
       "      <td>Paul Gregutt</td>\n",
       "      <td>@paulgwine</td>\n",
       "      <td>Daniel Rion 1999 Les Charmes  (Chambolle-Musigny)</td>\n",
       "      <td>Pinot Noir</td>\n",
       "      <td>Daniel Rion</td>\n",
       "    </tr>\n",
       "    <tr>\n",
       "      <th>76292</th>\n",
       "      <td>US</td>\n",
       "      <td>This wine has rich, almost sweet fruit aromas ...</td>\n",
       "      <td>Weir Vineyard</td>\n",
       "      <td>92</td>\n",
       "      <td>58.0</td>\n",
       "      <td>California</td>\n",
       "      <td>Yorkville Highlands</td>\n",
       "      <td>North Coast</td>\n",
       "      <td>Jim Gordon</td>\n",
       "      <td>@gordone_cellars</td>\n",
       "      <td>Williams Selyem 2013 Weir Vineyard Pinot Noir ...</td>\n",
       "      <td>Pinot Noir</td>\n",
       "      <td>Williams Selyem</td>\n",
       "    </tr>\n",
       "    <tr>\n",
       "      <th>5217</th>\n",
       "      <td>US</td>\n",
       "      <td>Sourced from a so-called “mystery clone” that ...</td>\n",
       "      <td>Coury</td>\n",
       "      <td>92</td>\n",
       "      <td>60.0</td>\n",
       "      <td>Oregon</td>\n",
       "      <td>McMinnville</td>\n",
       "      <td>Willamette Valley</td>\n",
       "      <td>Paul Gregutt</td>\n",
       "      <td>@paulgwine</td>\n",
       "      <td>Hyland 2012 Coury Pinot Noir (McMinnville)</td>\n",
       "      <td>Pinot Noir</td>\n",
       "      <td>Hyland</td>\n",
       "    </tr>\n",
       "    <tr>\n",
       "      <th>111209</th>\n",
       "      <td>US</td>\n",
       "      <td>This tastes of warmer Russian River Valley cli...</td>\n",
       "      <td>Estate Bottled</td>\n",
       "      <td>88</td>\n",
       "      <td>35.0</td>\n",
       "      <td>California</td>\n",
       "      <td>Russian River Valley</td>\n",
       "      <td>Sonoma</td>\n",
       "      <td>Virginie Boone</td>\n",
       "      <td>@vboone</td>\n",
       "      <td>Foppiano 2011 Estate Bottled Pinot Noir (Russi...</td>\n",
       "      <td>Pinot Noir</td>\n",
       "      <td>Foppiano</td>\n",
       "    </tr>\n",
       "    <tr>\n",
       "      <th>83588</th>\n",
       "      <td>US</td>\n",
       "      <td>A very solid wine for the price, this is light...</td>\n",
       "      <td>Reserve</td>\n",
       "      <td>87</td>\n",
       "      <td>15.0</td>\n",
       "      <td>California</td>\n",
       "      <td>Central Coast</td>\n",
       "      <td>Central Coast</td>\n",
       "      <td>Matt Kettmann</td>\n",
       "      <td>@mattkettmann</td>\n",
       "      <td>Parker Station 2014 Pinot Noir (Central Coast)</td>\n",
       "      <td>Pinot Noir</td>\n",
       "      <td>Parker Station</td>\n",
       "    </tr>\n",
       "    <tr>\n",
       "      <th>25760</th>\n",
       "      <td>US</td>\n",
       "      <td>Fragrant and inviting in dark cherry, raspberr...</td>\n",
       "      <td>Hallberg Vineyard</td>\n",
       "      <td>91</td>\n",
       "      <td>44.0</td>\n",
       "      <td>California</td>\n",
       "      <td>Russian River Valley</td>\n",
       "      <td>Sonoma</td>\n",
       "      <td>Virginie Boone</td>\n",
       "      <td>@vboone</td>\n",
       "      <td>Joseph Jewell 2011 Hallberg Vineyard Pinot Noi...</td>\n",
       "      <td>Pinot Noir</td>\n",
       "      <td>Joseph Jewell</td>\n",
       "    </tr>\n",
       "    <tr>\n",
       "      <th>16139</th>\n",
       "      <td>US</td>\n",
       "      <td>The brisk acidity and tough tannins suggest ce...</td>\n",
       "      <td>Precioso</td>\n",
       "      <td>93</td>\n",
       "      <td>75.0</td>\n",
       "      <td>California</td>\n",
       "      <td>Sonoma Coast</td>\n",
       "      <td>Sonoma</td>\n",
       "      <td>Roger Voss</td>\n",
       "      <td>@vossroger</td>\n",
       "      <td>Keller 2009 Precioso Pinot Noir (Sonoma Coast)</td>\n",
       "      <td>Pinot Noir</td>\n",
       "      <td>Keller</td>\n",
       "    </tr>\n",
       "  </tbody>\n",
       "</table>\n",
       "</div>"
      ],
      "text/plain": [
       "       country                                        description  \\\n",
       "105918  France  Smells a little warm with notes of stewed red ...   \n",
       "71285       US  A selection of estate, Tualatin and Elton vine...   \n",
       "95280       US  Aromas of cinnamon and spice decorate the nose...   \n",
       "59705       US  The pedigree of the vineyard shows in this bea...   \n",
       "13922   France  This wine is quite firm, but with plenty of bl...   \n",
       "129825  France  A fresh, juicy wine, with attractive acidity, ...   \n",
       "92587   France  This is a smooth and polished wine, with herb ...   \n",
       "126281      US  Pencil shavings, purple flowers, light cranber...   \n",
       "65232       US  This Pinot is a little tough in the mouth, but...   \n",
       "118714  France  In its early stages of evolution, this wine of...   \n",
       "126317      US  From a vineyard poised along Eastside Road, th...   \n",
       "128173      US  Reduced initially, this wine shows a feral her...   \n",
       "73236       US  Just one barrel was made, all 777 clone and ag...   \n",
       "73872   France  The nose is dominated by the attractive scents...   \n",
       "76292       US  This wine has rich, almost sweet fruit aromas ...   \n",
       "5217        US  Sourced from a so-called “mystery clone” that ...   \n",
       "111209      US  This tastes of warmer Russian River Valley cli...   \n",
       "83588       US  A very solid wine for the price, this is light...   \n",
       "25760       US  Fragrant and inviting in dark cherry, raspberr...   \n",
       "16139       US  The brisk acidity and tough tannins suggest ce...   \n",
       "\n",
       "                   designation  points  price              province  \\\n",
       "105918                 Reserve      83    5.0  Languedoc-Roussillon   \n",
       "71285          Signature Cuvée      90   50.0                Oregon   \n",
       "95280         McCrone Vineyard      88   50.0                Oregon   \n",
       "59705   Talley-Rincon Vineyard      93   40.0            California   \n",
       "13922    Santenots Premier Cru      91  145.0              Burgundy   \n",
       "129825                 Reserve      88   30.0              Burgundy   \n",
       "92587    Gravières Premier Cru      90   47.0              Burgundy   \n",
       "126281                 Reserve      84   22.0            California   \n",
       "65232        Stephanie's Cuvée      87   23.0            California   \n",
       "118714                 Reserve      92   96.0              Burgundy   \n",
       "126317       Calegari Vineyard      92   58.0            California   \n",
       "128173      Hawk Hill Vineyard      86   60.0            California   \n",
       "73236                  Luxuria      92   75.0                Oregon   \n",
       "73872              Les Charmes      87   65.0              Burgundy   \n",
       "76292            Weir Vineyard      92   58.0            California   \n",
       "5217                     Coury      92   60.0                Oregon   \n",
       "111209          Estate Bottled      88   35.0            California   \n",
       "83588                  Reserve      87   15.0            California   \n",
       "25760        Hallberg Vineyard      91   44.0            California   \n",
       "16139                 Precioso      93   75.0            California   \n",
       "\n",
       "                       region_1           region_2     taster_name  \\\n",
       "105918         Vin de Pays d'Oc      Central Coast   Lauren Buzzeo   \n",
       "71285         Willamette Valley  Willamette Valley    Paul Gregutt   \n",
       "95280         Willamette Valley      Central Coast    Paul Gregutt   \n",
       "59705      Arroyo Grande Valley      Central Coast      Roger Voss   \n",
       "13922                    Volnay      Central Coast      Roger Voss   \n",
       "129825  Côte de Beaune-Villages      Central Coast      Roger Voss   \n",
       "92587                  Santenay      Central Coast      Roger Voss   \n",
       "126281       Santa Maria Valley      Central Coast   Matt Kettmann   \n",
       "65232      Russian River Valley             Sonoma      Roger Voss   \n",
       "118714                   Corton      Central Coast      Roger Voss   \n",
       "126317     Russian River Valley             Sonoma  Virginie Boone   \n",
       "128173             Sonoma Coast             Sonoma  Virginie Boone   \n",
       "73236         Willamette Valley  Willamette Valley    Paul Gregutt   \n",
       "73872         Chambolle-Musigny      Central Coast    Paul Gregutt   \n",
       "76292       Yorkville Highlands        North Coast      Jim Gordon   \n",
       "5217                McMinnville  Willamette Valley    Paul Gregutt   \n",
       "111209     Russian River Valley             Sonoma  Virginie Boone   \n",
       "83588             Central Coast      Central Coast   Matt Kettmann   \n",
       "25760      Russian River Valley             Sonoma  Virginie Boone   \n",
       "16139              Sonoma Coast             Sonoma      Roger Voss   \n",
       "\n",
       "       taster_twitter_handle  \\\n",
       "105918             @laurbuzz   \n",
       "71285            @paulgwine    \n",
       "95280            @paulgwine    \n",
       "59705             @vossroger   \n",
       "13922             @vossroger   \n",
       "129825            @vossroger   \n",
       "92587             @vossroger   \n",
       "126281         @mattkettmann   \n",
       "65232             @vossroger   \n",
       "118714            @vossroger   \n",
       "126317               @vboone   \n",
       "128173               @vboone   \n",
       "73236            @paulgwine    \n",
       "73872            @paulgwine    \n",
       "76292       @gordone_cellars   \n",
       "5217             @paulgwine    \n",
       "111209               @vboone   \n",
       "83588          @mattkettmann   \n",
       "25760                @vboone   \n",
       "16139             @vossroger   \n",
       "\n",
       "                                                    title     variety  \\\n",
       "105918   French Rabbit 2007 Pinot Noir (Vin de Pays d'Oc)  Pinot Noir   \n",
       "71285   Willamette Valley Vineyards 2008 Signature Cuv...  Pinot Noir   \n",
       "95280         Ken Wright 2010 McCrone Vineyard Pinot Noir  Pinot Noir   \n",
       "59705   Sinor-LaVallee 2008 Talley-Rincon Vineyard Pin...  Pinot Noir   \n",
       "13922   Domaine Jacques Prieur 2014 Santenots Premier ...  Pinot Noir   \n",
       "129825       Camille Giroud 2008  Côte de Beaune-Villages  Pinot Noir   \n",
       "92587   Domaine Jessiaume 2010 Gravières Premier Cru  ...  Pinot Noir   \n",
       "126281  Crespi Ranch 2012 Pinot Noir (Santa Maria Valley)  Pinot Noir   \n",
       "65232   River Road 2012 Stephanie's Cuvée Pinot Noir (...  Pinot Noir   \n",
       "118714                         Maison Champy 2006  Corton  Pinot Noir   \n",
       "126317  Williams Selyem 2014 Calegari Vineyard Pinot N...  Pinot Noir   \n",
       "128173  Argot 2013 Hawk Hill Vineyard Pinot Noir (Sono...  Pinot Noir   \n",
       "73236   Antiquum Farm 2013 Luxuria Pinot Noir (Willame...  Pinot Noir   \n",
       "73872   Daniel Rion 1999 Les Charmes  (Chambolle-Musigny)  Pinot Noir   \n",
       "76292   Williams Selyem 2013 Weir Vineyard Pinot Noir ...  Pinot Noir   \n",
       "5217           Hyland 2012 Coury Pinot Noir (McMinnville)  Pinot Noir   \n",
       "111209  Foppiano 2011 Estate Bottled Pinot Noir (Russi...  Pinot Noir   \n",
       "83588      Parker Station 2014 Pinot Noir (Central Coast)  Pinot Noir   \n",
       "25760   Joseph Jewell 2011 Hallberg Vineyard Pinot Noi...  Pinot Noir   \n",
       "16139      Keller 2009 Precioso Pinot Noir (Sonoma Coast)  Pinot Noir   \n",
       "\n",
       "                             winery  \n",
       "105918                French Rabbit  \n",
       "71285   Willamette Valley Vineyards  \n",
       "95280                    Ken Wright  \n",
       "59705                Sinor-LaVallee  \n",
       "13922        Domaine Jacques Prieur  \n",
       "129825               Camille Giroud  \n",
       "92587             Domaine Jessiaume  \n",
       "126281                 Crespi Ranch  \n",
       "65232                    River Road  \n",
       "118714                Maison Champy  \n",
       "126317              Williams Selyem  \n",
       "128173                        Argot  \n",
       "73236                 Antiquum Farm  \n",
       "73872                   Daniel Rion  \n",
       "76292               Williams Selyem  \n",
       "5217                         Hyland  \n",
       "111209                     Foppiano  \n",
       "83588                Parker Station  \n",
       "25760                 Joseph Jewell  \n",
       "16139                        Keller  "
      ]
     },
     "execution_count": 33,
     "metadata": {},
     "output_type": "execute_result"
    }
   ],
   "source": [
    "fulldata[fulldata['variety'] == 'Pinot Noir'].sample(20)"
   ]
  },
  {
   "cell_type": "markdown",
   "metadata": {},
   "source": [
    "从前20个样本中也看出Pinot Noir这个品种的葡萄酒基本大部分都产自美国，下面的直方图中更直观。"
   ]
  },
  {
   "cell_type": "markdown",
   "metadata": {},
   "source": [
    "### 7.可视化展示：绘制直方图"
   ]
  },
  {
   "cell_type": "code",
   "execution_count": 34,
   "metadata": {},
   "outputs": [
    {
     "data": {
      "text/plain": [
       "<matplotlib.axes._subplots.AxesSubplot at 0x1ce820186d8>"
      ]
     },
     "execution_count": 34,
     "metadata": {},
     "output_type": "execute_result"
    },
    {
     "data": {
      "image/png": "[encoded data removed]",
      "text/plain": [
       "<matplotlib.figure.Figure at 0x1ce819a0438>"
      ]
     },
     "metadata": {
      "image/png": {
       "height": 306,
       "width": 390
      }
     },
     "output_type": "display_data"
    }
   ],
   "source": [
    "fulldata[fulldata['variety'] == 'Pinot Noir']['country'].value_counts().plot(kind='bar')"
   ]
  },
  {
   "cell_type": "markdown",
   "metadata": {},
   "source": [
    "从直方图中看出Pinot Noir这个品种的葡萄酒大部分都产自于美国，这与本实验数据挖掘的结果一致，说明了本实验成功挖掘了属性之间的关联。"
   ]
  }
 ],
 "metadata": {
  "kernelspec": {
   "display_name": "Python 3",
   "language": "python",
   "name": "python3"
  },
  "language_info": {
   "codemirror_mode": {
    "name": "ipython",
    "version": 3
   },
   "file_extension": ".py",
   "mimetype": "text/x-python",
   "name": "python",
   "nbconvert_exporter": "python",
   "pygments_lexer": "ipython3",
   "version": "3.6.3"
  }
 },
 "nbformat": 4,
 "nbformat_minor": 2
}
